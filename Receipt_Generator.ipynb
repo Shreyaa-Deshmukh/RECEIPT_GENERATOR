{
 "cells": [
  {
   "cell_type": "code",
   "execution_count": 11,
   "id": "cd3f39af",
   "metadata": {},
   "outputs": [],
   "source": [
    "import tkinter as tk\n",
    "from tkinter import messagebox\n",
    "from reportlab.lib.pagesizes import A4\n",
    "from reportlab.pdfgen import canvas\n",
    "from datetime import datetime\n",
    "from reportlab.pdfbase.ttfonts import TTFont\n",
    "from reportlab.pdfbase import pdfmetrics\n",
    "from reportlab.lib.units import mm"
   ]
  },
  {
   "cell_type": "code",
   "execution_count": 9,
   "id": "dd712b99",
   "metadata": {},
   "outputs": [],
   "source": [
    "pdfmetrics.registerFont(TTFont('Helvetica', 'Helvetica.ttf'))\n",
    "pdfmetrics.registerFont(TTFont('Helvetica-Bold','Helvetica-Bold.ttf'))"
   ]
  },
  {
   "cell_type": "code",
   "execution_count": 18,
   "id": "368b8686",
   "metadata": {},
   "outputs": [],
   "source": [
    "def generate_pdf():\n",
    "    name = entry_name.get()\n",
    "    course = entry_course.get()\n",
    "    fees = entry_fees.get() \n",
    "\n",
    "    if not name or not course or not fees:\n",
    "        messagebox.showerror(\"Error\", \"All fields are required!\")\n",
    "        return\n",
    "    \n",
    "    try:\n",
    "        fees_float = float(fees)\n",
    "    except ValueError:\n",
    "        messagebox.showerror(\"Error\", \"Fees must be a number!\")\n",
    "        return\n",
    "\n",
    "    date_str = datetime.now().strftime(\"%d-%m-%Y\")\n",
    "    file_name = f\"receipt_{name.replace(' ','_')}.pdf\" \n",
    "\n",
    "    custom_width = 150 * mm\n",
    "    custom_height = 100 * mm\n",
    "\n",
    "    c= canvas.Canvas(file_name, pagesize=(custom_width, custom_height))\n",
    "    width, height =A4\n",
    "\n",
    "    c.setFont(\"Helvetica-Bold\", 14) \n",
    "    c.drawCentredString(custom_width/2, custom_height-20, \"A Focus Learning Institute\")  \n",
    "    \n",
    "    c.setFont(\"Helvetica\", 12)\n",
    "\n",
    "    c.drawString((custom_width/1.4), custom_height-40, f\"Date:{date_str}\")\n",
    "    c.drawString(15, custom_height-80, f\"Received from: {name}\")\n",
    "    c.drawString(15, custom_height-105, f\"Course: {course}\")\n",
    "    c.drawString(15, custom_height-130, f\"Fees Paid: {fees}\")\n",
    "\n",
    "    c.drawString(15, 70,\"Thank you for payment!\")\n",
    "    c.drawString(15, 50, \"This is system-generated receipt.\")\n",
    "\n",
    "    c.save()\n",
    "\n",
    "    messagebox.showinfo(\"Success\", f\"Receipt generated and saved as {file_name}\")\n",
    "\n",
    "\n",
    "\n",
    "root = tk.Tk()\n",
    "root.title(\"Fees Receipt Generator\")\n",
    "root.geometry(\"400x250\")\n",
    "\n",
    "tk.Label(root, text=\"Student Name:\").place(x=20, y=20)\n",
    "entry_name =  tk.Entry(root, width=30)\n",
    "entry_name.place(x=150, y=20)\n",
    "\n",
    "tk.Label(root, text=\"Course Name:\").place(x=20, y=60)\n",
    "entry_course = tk.Entry(root, width=30)\n",
    "entry_course.place(x=150, y=60)\n",
    "\n",
    "tk.Label(root, text=\"Fees Paid:\").place(x=20, y=100)\n",
    "entry_fees = tk.Entry(root, width= 30)\n",
    "entry_fees.place(x=150, y=100)\n",
    "\n",
    "generate_btn = tk.Button(root, text=\"Generate Receipt\", command= generate_pdf)\n",
    "generate_btn.place(x=150, y=150)\n",
    "\n",
    "root.mainloop()"
   ]
  }
 ],
 "metadata": {
  "kernelspec": {
   "display_name": "venv",
   "language": "python",
   "name": "python3"
  },
  "language_info": {
   "codemirror_mode": {
    "name": "ipython",
    "version": 3
   },
   "file_extension": ".py",
   "mimetype": "text/x-python",
   "name": "python",
   "nbconvert_exporter": "python",
   "pygments_lexer": "ipython3",
   "version": "3.12.7"
  }
 },
 "nbformat": 4,
 "nbformat_minor": 5
}
